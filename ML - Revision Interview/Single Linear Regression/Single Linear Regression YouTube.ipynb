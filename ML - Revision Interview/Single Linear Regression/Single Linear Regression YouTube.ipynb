{
 "cells": [
  {
   "cell_type": "code",
   "execution_count": null,
   "id": "df33036d",
   "metadata": {},
   "outputs": [],
   "source": []
  },
  {
   "cell_type": "markdown",
   "id": "9c975803",
   "metadata": {},
   "source": [
    "## Approach\n",
    "#### These steps outline the process to be followed when working on a predictive model: \n",
    "- Problem Definition\n",
    "- Data Collection\n",
    "- Data Preprocessing\n",
    "- Feature Selection/Engineering\n",
    "- Data Splitting\n",
    "- Model Selection\n",
    "- Model Training\n",
    "- Model Evaluation\n",
    "- Model Tuning\n",
    "- Prediction\n"
   ]
  },
  {
   "cell_type": "markdown",
   "id": "4c61f183",
   "metadata": {},
   "source": [
    "## Problem Definition\n",
    "\n",
    "### *Clearly state the problem you want to solve, as well as the outcome you want to predict.*\n"
   ]
  },
  {
   "cell_type": "code",
   "execution_count": null,
   "id": "0b516833",
   "metadata": {},
   "outputs": [],
   "source": []
  },
  {
   "cell_type": "code",
   "execution_count": null,
   "id": "3accc7e8",
   "metadata": {},
   "outputs": [],
   "source": []
  },
  {
   "cell_type": "code",
   "execution_count": null,
   "id": "f99ddbba",
   "metadata": {},
   "outputs": [],
   "source": []
  },
  {
   "cell_type": "markdown",
   "id": "3229e37a",
   "metadata": {},
   "source": [
    "## Data Collection\n",
    "\n",
    "### *Gather relevant data that will be used to train and test the prediction model.*\n"
   ]
  },
  {
   "cell_type": "code",
   "execution_count": null,
   "id": "aa186c7e",
   "metadata": {},
   "outputs": [],
   "source": []
  },
  {
   "cell_type": "code",
   "execution_count": null,
   "id": "6584ead4",
   "metadata": {},
   "outputs": [],
   "source": []
  },
  {
   "cell_type": "code",
   "execution_count": null,
   "id": "4bf8308f",
   "metadata": {},
   "outputs": [],
   "source": []
  },
  {
   "cell_type": "markdown",
   "id": "7a29a063",
   "metadata": {},
   "source": [
    "## Data Preprocessing\n",
    "\n",
    "\n",
    "### *Clean the data by handling missing values, dealing with outliers, data visualization, normalizing features, and encoding categorical variables.*\n"
   ]
  },
  {
   "cell_type": "code",
   "execution_count": null,
   "id": "140e6629",
   "metadata": {},
   "outputs": [],
   "source": []
  },
  {
   "cell_type": "code",
   "execution_count": null,
   "id": "79afb0d4",
   "metadata": {},
   "outputs": [],
   "source": []
  },
  {
   "cell_type": "code",
   "execution_count": null,
   "id": "c48da8fb",
   "metadata": {},
   "outputs": [],
   "source": []
  },
  {
   "cell_type": "markdown",
   "id": "d59e9cd5",
   "metadata": {},
   "source": [
    "## Feature Selection/Engineering\n",
    "\n",
    "### *Identify which features are important for the prediction task and create new features if needed.*\n"
   ]
  },
  {
   "cell_type": "code",
   "execution_count": null,
   "id": "ca6a5e70",
   "metadata": {},
   "outputs": [],
   "source": []
  },
  {
   "cell_type": "code",
   "execution_count": null,
   "id": "d4545b42",
   "metadata": {},
   "outputs": [],
   "source": []
  },
  {
   "cell_type": "code",
   "execution_count": null,
   "id": "3897ccf6",
   "metadata": {},
   "outputs": [],
   "source": []
  },
  {
   "cell_type": "markdown",
   "id": "5ae3acdc",
   "metadata": {},
   "source": [
    "## Data Splitting\n",
    "\n",
    "### *Divide the datasets into a training set and a testing set to evaluate your model's performance.*"
   ]
  },
  {
   "cell_type": "code",
   "execution_count": null,
   "id": "372343a3",
   "metadata": {},
   "outputs": [],
   "source": []
  },
  {
   "cell_type": "code",
   "execution_count": null,
   "id": "a4be79e3",
   "metadata": {},
   "outputs": [],
   "source": []
  },
  {
   "cell_type": "code",
   "execution_count": null,
   "id": "e8b7b626",
   "metadata": {},
   "outputs": [],
   "source": []
  },
  {
   "cell_type": "markdown",
   "id": "42e136c0",
   "metadata": {},
   "source": [
    "## Model Selection\n",
    "\n",
    "### *Choose an appropriate machine learning algorithm based on the type of problem (classification, regression, etc.) and the characteristics of the data.*"
   ]
  },
  {
   "cell_type": "code",
   "execution_count": null,
   "id": "d5db1d9a",
   "metadata": {},
   "outputs": [],
   "source": []
  },
  {
   "cell_type": "code",
   "execution_count": null,
   "id": "102703ab",
   "metadata": {},
   "outputs": [],
   "source": []
  },
  {
   "cell_type": "code",
   "execution_count": null,
   "id": "d2e4b20b",
   "metadata": {},
   "outputs": [],
   "source": []
  },
  {
   "cell_type": "markdown",
   "id": "f0136352",
   "metadata": {},
   "source": [
    "## Model Training\n",
    "\n",
    "### *Use the training data to train the selected model by adjusting its parameters to minimize the prediction error.*"
   ]
  },
  {
   "cell_type": "code",
   "execution_count": null,
   "id": "473c96ba",
   "metadata": {},
   "outputs": [],
   "source": []
  },
  {
   "cell_type": "markdown",
   "id": "f6443112",
   "metadata": {},
   "source": [
    "## Model Evaluation\n",
    "\n",
    "### *Assess the model's performance on a separate set of data not used during training to understand its predictive power and generalization capability.*\n",
    "\n"
   ]
  },
  {
   "cell_type": "code",
   "execution_count": null,
   "id": "6fd184f6",
   "metadata": {},
   "outputs": [],
   "source": []
  },
  {
   "cell_type": "markdown",
   "id": "1e6d0c55",
   "metadata": {},
   "source": [
    "## Model Tuning\n",
    "\n",
    "### *Fine-tune the model's hyperparameters to optimize its performance.*\n"
   ]
  },
  {
   "cell_type": "code",
   "execution_count": null,
   "id": "f3ca9c7a",
   "metadata": {},
   "outputs": [],
   "source": []
  },
  {
   "cell_type": "markdown",
   "id": "f2b1fe19",
   "metadata": {},
   "source": [
    "## Prediction\n",
    "\n",
    "### *Once the model is trained and validated, it can be used to make predictions on new, unseen data.*\n"
   ]
  },
  {
   "cell_type": "code",
   "execution_count": null,
   "id": "be639c46",
   "metadata": {},
   "outputs": [],
   "source": []
  },
  {
   "cell_type": "code",
   "execution_count": null,
   "id": "883a75cd",
   "metadata": {},
   "outputs": [],
   "source": []
  },
  {
   "cell_type": "code",
   "execution_count": null,
   "id": "b5bed235",
   "metadata": {},
   "outputs": [],
   "source": []
  },
  {
   "cell_type": "code",
   "execution_count": null,
   "id": "3218612d",
   "metadata": {},
   "outputs": [],
   "source": []
  },
  {
   "cell_type": "code",
   "execution_count": null,
   "id": "c5581533",
   "metadata": {},
   "outputs": [],
   "source": []
  },
  {
   "cell_type": "code",
   "execution_count": null,
   "id": "1a5f0c73",
   "metadata": {},
   "outputs": [],
   "source": []
  },
  {
   "cell_type": "code",
   "execution_count": null,
   "id": "2fa16389",
   "metadata": {},
   "outputs": [],
   "source": []
  }
 ],
 "metadata": {
  "kernelspec": {
   "display_name": "Python 3 (ipykernel)",
   "language": "python",
   "name": "python3"
  },
  "language_info": {
   "codemirror_mode": {
    "name": "ipython",
    "version": 3
   },
   "file_extension": ".py",
   "mimetype": "text/x-python",
   "name": "python",
   "nbconvert_exporter": "python",
   "pygments_lexer": "ipython3",
   "version": "3.9.13"
  }
 },
 "nbformat": 4,
 "nbformat_minor": 5
}
