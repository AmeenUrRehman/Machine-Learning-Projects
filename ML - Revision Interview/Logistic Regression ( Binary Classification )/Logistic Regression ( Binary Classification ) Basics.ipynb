{
 "cells": [
  {
   "cell_type": "markdown",
   "id": "79fe7236",
   "metadata": {},
   "source": [
    "## Logistic Regression\n",
    "\n",
    "- Logistic Regression is a Supervised Machine Learning classification algorithm used to predict the categorical dependent (Target) variable using a given independent (Predictor) variable.\n",
    "- Logistic Regression is primarily used for binary classification problems (two classes: 0 and 1)."
   ]
  },
  {
   "cell_type": "markdown",
   "id": "9c975803",
   "metadata": {},
   "source": [
    "## Approach\n",
    "#### These steps outline the process to be followed when working on a predictive model: \n",
    "- Problem Definition\n",
    "- Data Collection\n",
    "- Data Preprocessing\n",
    "- Feature Selection/Engineering\n",
    "- Data Splitting\n",
    "- Model Selection\n",
    "- Model Training\n",
    "- Model Evaluation\n",
    "- Hyperparameter Tuning\n",
    "- Prediction"
   ]
  },
  {
   "cell_type": "markdown",
   "id": "4c61f183",
   "metadata": {},
   "source": [
    "## Problem Definition\n",
    "\n",
    "### *Clearly state the problem you want to solve, as well as the outcome you want to predict.*\n"
   ]
  },
  {
   "cell_type": "markdown",
   "id": "76672ebd",
   "metadata": {},
   "source": [
    "Here we have to predict whether the person going to buy insurance or not with repect to it's age which is an indepedent variable."
   ]
  },
  {
   "cell_type": "code",
   "execution_count": 2,
   "id": "cb661c8b",
   "metadata": {},
   "outputs": [],
   "source": [
    "# Importing Libraries\n",
    "import pandas as pd\n",
    "import numpy as np\n",
    "import matplotlib.pyplot as plt\n",
    "import warnings\n",
    "warnings.filterwarnings('ignore')"
   ]
  },
  {
   "cell_type": "markdown",
   "id": "3229e37a",
   "metadata": {},
   "source": [
    "## Data Collection\n",
    "\n",
    "### *Gather relevant data that will be used to train and test the prediction model.*\n"
   ]
  },
  {
   "cell_type": "code",
   "execution_count": 3,
   "id": "aa186c7e",
   "metadata": {},
   "outputs": [],
   "source": [
    "df = pd.read_csv(\"insurance_data.csv\")"
   ]
  },
  {
   "cell_type": "code",
   "execution_count": 4,
   "id": "6584ead4",
   "metadata": {},
   "outputs": [
    {
     "data": {
      "text/html": [
       "<div>\n",
       "<style scoped>\n",
       "    .dataframe tbody tr th:only-of-type {\n",
       "        vertical-align: middle;\n",
       "    }\n",
       "\n",
       "    .dataframe tbody tr th {\n",
       "        vertical-align: top;\n",
       "    }\n",
       "\n",
       "    .dataframe thead th {\n",
       "        text-align: right;\n",
       "    }\n",
       "</style>\n",
       "<table border=\"1\" class=\"dataframe\">\n",
       "  <thead>\n",
       "    <tr style=\"text-align: right;\">\n",
       "      <th></th>\n",
       "      <th>age</th>\n",
       "      <th>bought_insurance</th>\n",
       "    </tr>\n",
       "  </thead>\n",
       "  <tbody>\n",
       "    <tr>\n",
       "      <th>0</th>\n",
       "      <td>22</td>\n",
       "      <td>0</td>\n",
       "    </tr>\n",
       "    <tr>\n",
       "      <th>1</th>\n",
       "      <td>25</td>\n",
       "      <td>0</td>\n",
       "    </tr>\n",
       "    <tr>\n",
       "      <th>2</th>\n",
       "      <td>47</td>\n",
       "      <td>1</td>\n",
       "    </tr>\n",
       "    <tr>\n",
       "      <th>3</th>\n",
       "      <td>52</td>\n",
       "      <td>0</td>\n",
       "    </tr>\n",
       "    <tr>\n",
       "      <th>4</th>\n",
       "      <td>46</td>\n",
       "      <td>1</td>\n",
       "    </tr>\n",
       "    <tr>\n",
       "      <th>5</th>\n",
       "      <td>56</td>\n",
       "      <td>1</td>\n",
       "    </tr>\n",
       "    <tr>\n",
       "      <th>6</th>\n",
       "      <td>55</td>\n",
       "      <td>0</td>\n",
       "    </tr>\n",
       "    <tr>\n",
       "      <th>7</th>\n",
       "      <td>60</td>\n",
       "      <td>1</td>\n",
       "    </tr>\n",
       "    <tr>\n",
       "      <th>8</th>\n",
       "      <td>62</td>\n",
       "      <td>1</td>\n",
       "    </tr>\n",
       "    <tr>\n",
       "      <th>9</th>\n",
       "      <td>61</td>\n",
       "      <td>1</td>\n",
       "    </tr>\n",
       "    <tr>\n",
       "      <th>10</th>\n",
       "      <td>18</td>\n",
       "      <td>0</td>\n",
       "    </tr>\n",
       "    <tr>\n",
       "      <th>11</th>\n",
       "      <td>28</td>\n",
       "      <td>0</td>\n",
       "    </tr>\n",
       "    <tr>\n",
       "      <th>12</th>\n",
       "      <td>27</td>\n",
       "      <td>0</td>\n",
       "    </tr>\n",
       "    <tr>\n",
       "      <th>13</th>\n",
       "      <td>29</td>\n",
       "      <td>0</td>\n",
       "    </tr>\n",
       "    <tr>\n",
       "      <th>14</th>\n",
       "      <td>49</td>\n",
       "      <td>1</td>\n",
       "    </tr>\n",
       "    <tr>\n",
       "      <th>15</th>\n",
       "      <td>55</td>\n",
       "      <td>1</td>\n",
       "    </tr>\n",
       "    <tr>\n",
       "      <th>16</th>\n",
       "      <td>25</td>\n",
       "      <td>1</td>\n",
       "    </tr>\n",
       "    <tr>\n",
       "      <th>17</th>\n",
       "      <td>58</td>\n",
       "      <td>1</td>\n",
       "    </tr>\n",
       "    <tr>\n",
       "      <th>18</th>\n",
       "      <td>19</td>\n",
       "      <td>0</td>\n",
       "    </tr>\n",
       "    <tr>\n",
       "      <th>19</th>\n",
       "      <td>18</td>\n",
       "      <td>0</td>\n",
       "    </tr>\n",
       "    <tr>\n",
       "      <th>20</th>\n",
       "      <td>21</td>\n",
       "      <td>0</td>\n",
       "    </tr>\n",
       "    <tr>\n",
       "      <th>21</th>\n",
       "      <td>26</td>\n",
       "      <td>0</td>\n",
       "    </tr>\n",
       "    <tr>\n",
       "      <th>22</th>\n",
       "      <td>40</td>\n",
       "      <td>1</td>\n",
       "    </tr>\n",
       "    <tr>\n",
       "      <th>23</th>\n",
       "      <td>45</td>\n",
       "      <td>1</td>\n",
       "    </tr>\n",
       "    <tr>\n",
       "      <th>24</th>\n",
       "      <td>50</td>\n",
       "      <td>1</td>\n",
       "    </tr>\n",
       "    <tr>\n",
       "      <th>25</th>\n",
       "      <td>54</td>\n",
       "      <td>1</td>\n",
       "    </tr>\n",
       "    <tr>\n",
       "      <th>26</th>\n",
       "      <td>23</td>\n",
       "      <td>0</td>\n",
       "    </tr>\n",
       "  </tbody>\n",
       "</table>\n",
       "</div>"
      ],
      "text/plain": [
       "    age  bought_insurance\n",
       "0    22                 0\n",
       "1    25                 0\n",
       "2    47                 1\n",
       "3    52                 0\n",
       "4    46                 1\n",
       "5    56                 1\n",
       "6    55                 0\n",
       "7    60                 1\n",
       "8    62                 1\n",
       "9    61                 1\n",
       "10   18                 0\n",
       "11   28                 0\n",
       "12   27                 0\n",
       "13   29                 0\n",
       "14   49                 1\n",
       "15   55                 1\n",
       "16   25                 1\n",
       "17   58                 1\n",
       "18   19                 0\n",
       "19   18                 0\n",
       "20   21                 0\n",
       "21   26                 0\n",
       "22   40                 1\n",
       "23   45                 1\n",
       "24   50                 1\n",
       "25   54                 1\n",
       "26   23                 0"
      ]
     },
     "execution_count": 4,
     "metadata": {},
     "output_type": "execute_result"
    }
   ],
   "source": [
    "df"
   ]
  },
  {
   "cell_type": "markdown",
   "id": "7a29a063",
   "metadata": {},
   "source": [
    "## Data Preprocessing\n",
    "\n",
    "\n",
    "### *Clean the data by handling missing values, dealing with outliers, normalizing features, data visualisation and encoding categorical variables.*\n"
   ]
  },
  {
   "cell_type": "code",
   "execution_count": 5,
   "id": "140e6629",
   "metadata": {},
   "outputs": [
    {
     "data": {
      "image/png": "[encoded data removed]",
      "text/plain": [
       "<Figure size 640x480 with 1 Axes>"
      ]
     },
     "metadata": {},
     "output_type": "display_data"
    }
   ],
   "source": [
    "# Plotting\n",
    "plot_scatter = plt.scatter(df.age, df.bought_insurance, color = 'blue', marker = '+')"
   ]
  },
  {
   "cell_type": "markdown",
   "id": "d59e9cd5",
   "metadata": {},
   "source": [
    "## Feature Selection/Engineering\n",
    "\n",
    "### *Identify which features are important for the prediction task and create new features if needed.*\n"
   ]
  },
  {
   "cell_type": "markdown",
   "id": "357ca315",
   "metadata": {},
   "source": [
    "Here, we are working on very less data hence no need for feature engineering"
   ]
  },
  {
   "cell_type": "markdown",
   "id": "5ae3acdc",
   "metadata": {},
   "source": [
    "## Data Splitting\n",
    "\n",
    "### *Divide the datasets into a training set and a testing set to evaluate your model's performance.*"
   ]
  },
  {
   "cell_type": "code",
   "execution_count": 6,
   "id": "372343a3",
   "metadata": {},
   "outputs": [],
   "source": [
    "from sklearn.model_selection import train_test_split"
   ]
  },
  {
   "cell_type": "code",
   "execution_count": 20,
   "id": "a4be79e3",
   "metadata": {},
   "outputs": [],
   "source": [
    "X_train , X_test, y_train, y_test = train_test_split(df[['age']], df['bought_insurance'], test_size= 0.2, random_state=42)"
   ]
  },
  {
   "cell_type": "markdown",
   "id": "42e136c0",
   "metadata": {},
   "source": [
    "## Model Selection\n",
    "\n",
    "### *Choose an appropriate machine learning algorithm based on the type of problem (classification, regression, etc.) and the characteristics of the data.*"
   ]
  },
  {
   "cell_type": "code",
   "execution_count": 21,
   "id": "d5db1d9a",
   "metadata": {},
   "outputs": [],
   "source": [
    "from sklearn.linear_model import LogisticRegression"
   ]
  },
  {
   "cell_type": "code",
   "execution_count": 24,
   "id": "102703ab",
   "metadata": {},
   "outputs": [],
   "source": [
    "model_log_regression = LogisticRegression()"
   ]
  },
  {
   "cell_type": "markdown",
   "id": "f0136352",
   "metadata": {},
   "source": [
    "## Model Training\n",
    "\n",
    "### *Use the training data to train the selected model by adjusting its parameters to minimize the prediction error.*"
   ]
  },
  {
   "cell_type": "code",
   "execution_count": 25,
   "id": "473c96ba",
   "metadata": {},
   "outputs": [
    {
     "data": {
      "text/plain": [
       "LogisticRegression()"
      ]
     },
     "execution_count": 25,
     "metadata": {},
     "output_type": "execute_result"
    }
   ],
   "source": [
    "model_log_regression.fit(X_train, y_train)"
   ]
  },
  {
   "cell_type": "markdown",
   "id": "f6443112",
   "metadata": {},
   "source": [
    "## Model Evaluation\n",
    "\n",
    "### *Assess the model's performance on a separate set of data not used during training to understand its predictive power and generalization capability.*\n",
    "\n"
   ]
  },
  {
   "cell_type": "code",
   "execution_count": 28,
   "id": "c5581533",
   "metadata": {},
   "outputs": [
    {
     "data": {
      "text/plain": [
       "1.0"
      ]
     },
     "execution_count": 28,
     "metadata": {},
     "output_type": "execute_result"
    }
   ],
   "source": [
    "model_log_regression.score(X_test, y_test)"
   ]
  },
  {
   "cell_type": "markdown",
   "id": "1e6d0c55",
   "metadata": {},
   "source": [
    "## Hyperparameter Tuning\n",
    "\n",
    "### *Fine-tune the model's hyperparameters to optimize its performance.*\n"
   ]
  },
  {
   "cell_type": "markdown",
   "id": "55fd91fe",
   "metadata": {},
   "source": [
    "No need as we are working on very less data"
   ]
  },
  {
   "cell_type": "markdown",
   "id": "f2b1fe19",
   "metadata": {},
   "source": [
    "## Prediction\n",
    "\n",
    "### *Once the model is trained and validated, it can be used to make predictions on new, unseen data.*\n"
   ]
  },
  {
   "cell_type": "code",
   "execution_count": 35,
   "id": "96ea8a27",
   "metadata": {},
   "outputs": [
    {
     "data": {
      "text/plain": [
       "array([1, 0, 1, 0, 0, 0], dtype=int64)"
      ]
     },
     "execution_count": 35,
     "metadata": {},
     "output_type": "execute_result"
    }
   ],
   "source": [
    "model_log_regression.predict(X_test)"
   ]
  },
  {
   "cell_type": "code",
   "execution_count": 39,
   "id": "2d146aea",
   "metadata": {},
   "outputs": [
    {
     "data": {
      "text/plain": [
       "array([[0.05428681, 0.94571319],\n",
       "       [0.70555426, 0.29444574],\n",
       "       [0.06039343, 0.93960657],\n",
       "       [0.77085061, 0.22914939],\n",
       "       [0.84096546, 0.15903454],\n",
       "       [0.72848825, 0.27151175]])"
      ]
     },
     "execution_count": 39,
     "metadata": {},
     "output_type": "execute_result"
    }
   ],
   "source": [
    "model_log_regression.predict_proba(X_test)"
   ]
  },
  {
   "cell_type": "code",
   "execution_count": 40,
   "id": "acf839f9",
   "metadata": {},
   "outputs": [
    {
     "data": {
      "text/plain": [
       "array([1], dtype=int64)"
      ]
     },
     "execution_count": 40,
     "metadata": {},
     "output_type": "execute_result"
    }
   ],
   "source": [
    "model_log_regression.predict([['65']])"
   ]
  },
  {
   "cell_type": "markdown",
   "id": "27f66696",
   "metadata": {},
   "source": [
    "Here 0 & 1 is identifies as Yes -> Buying Insurence and No -> Not Buying Insurence respectively."
   ]
  },
  {
   "cell_type": "markdown",
   "id": "d9181b2a",
   "metadata": {},
   "source": [
    "## Thank You !!!"
   ]
  }
 ],
 "metadata": {
  "kernelspec": {
   "display_name": "Python 3 (ipykernel)",
   "language": "python",
   "name": "python3"
  },
  "language_info": {
   "codemirror_mode": {
    "name": "ipython",
    "version": 3
   },
   "file_extension": ".py",
   "mimetype": "text/x-python",
   "name": "python",
   "nbconvert_exporter": "python",
   "pygments_lexer": "ipython3",
   "version": "3.9.13"
  }
 },
 "nbformat": 4,
 "nbformat_minor": 5
}
